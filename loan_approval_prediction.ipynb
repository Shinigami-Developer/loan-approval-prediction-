{
  "nbformat": 4,
  "nbformat_minor": 0,
  "metadata": {
    "colab": {
      "name": "loan approval prediction.ipynb",
      "provenance": [],
      "collapsed_sections": [],
      "mount_file_id": "1qJOARDy5H4K4FDX1EymaINXq-JhnNQI5",
      "authorship_tag": "ABX9TyO4frOuXq1snV7ME7iQilIq"
    },
    "kernelspec": {
      "name": "python3",
      "display_name": "Python 3"
    }
  },
  "cells": [
    {
      "cell_type": "code",
      "metadata": {
        "id": "XP-KKGU0S_LF"
      },
      "source": [
        "# Dataset link\r\n",
        "# https://www.kaggle.com/altruistdelhite04/loan-prediction-problem-dataset "
      ],
      "execution_count": 1,
      "outputs": []
    },
    {
      "cell_type": "code",
      "metadata": {
        "id": "Fi1Vic6MWIlB"
      },
      "source": [
        "import numpy as np   # linear algebra\r\n",
        "import pandas as pd  # data processing\r\n",
        "import warnings      # warning filter\r\n",
        "\r\n",
        "\r\n",
        "#plotting libraries\r\n",
        "import matplotlib.pyplot as plt \r\n",
        "import seaborn as sns\r\n",
        "\r\n",
        "#relevant ML libraries\r\n",
        "from sklearn.preprocessing import LabelEncoder\r\n",
        "from sklearn.model_selection import train_test_split\r\n",
        "from sklearn.metrics import confusion_matrix\r\n",
        "from sklearn.metrics import classification_report\r\n",
        "from sklearn.metrics import accuracy_score\r\n",
        "\r\n",
        "#ML models\r\n",
        "from xgboost import XGBClassifier\r\n",
        "from sklearn.tree import DecisionTreeClassifier\r\n",
        "from sklearn.ensemble import RandomForestClassifier\r\n",
        "from sklearn.linear_model import LogisticRegression\r\n",
        "\r\n",
        "#default theme\r\n",
        "sns.set(context='notebook', style='darkgrid', palette='deep', font='sans-serif', font_scale=1, color_codes=False, rc=None)\r\n",
        "\r\n",
        "#warning hadle\r\n",
        "warnings.filterwarnings(\"ignore\")"
      ],
      "execution_count": 2,
      "outputs": []
    },
    {
      "cell_type": "markdown",
      "metadata": {
        "id": "IqjlL8L6W_Pw"
      },
      "source": [
        "**Import data**"
      ]
    },
    {
      "cell_type": "code",
      "metadata": {
        "id": "7r_M2MciWepZ"
      },
      "source": [
        "# training set\r\n",
        "df_train = pd.read_csv(\"/content/drive/MyDrive/projects real/loan approval prediction/train.csv\")\r\n",
        "\r\n",
        "# testing set\r\n",
        "df_test = pd.read_csv(\"/content/drive/MyDrive/projects real/loan approval prediction/test.csv\")"
      ],
      "execution_count": 3,
      "outputs": []
    },
    {
      "cell_type": "code",
      "metadata": {
        "colab": {
          "base_uri": "https://localhost:8080/",
          "height": 241
        },
        "id": "zLGePMNpWzHh",
        "outputId": "e6856301-06e5-409f-dfea-f984f4dbb614"
      },
      "source": [
        "df_train.head()"
      ],
      "execution_count": 4,
      "outputs": [
        {
          "output_type": "execute_result",
          "data": {
            "text/html": [
              "<div>\n",
              "<style scoped>\n",
              "    .dataframe tbody tr th:only-of-type {\n",
              "        vertical-align: middle;\n",
              "    }\n",
              "\n",
              "    .dataframe tbody tr th {\n",
              "        vertical-align: top;\n",
              "    }\n",
              "\n",
              "    .dataframe thead th {\n",
              "        text-align: right;\n",
              "    }\n",
              "</style>\n",
              "<table border=\"1\" class=\"dataframe\">\n",
              "  <thead>\n",
              "    <tr style=\"text-align: right;\">\n",
              "      <th></th>\n",
              "      <th>Loan_ID</th>\n",
              "      <th>Gender</th>\n",
              "      <th>Married</th>\n",
              "      <th>Dependents</th>\n",
              "      <th>Education</th>\n",
              "      <th>Self_Employed</th>\n",
              "      <th>ApplicantIncome</th>\n",
              "      <th>CoapplicantIncome</th>\n",
              "      <th>LoanAmount</th>\n",
              "      <th>Loan_Amount_Term</th>\n",
              "      <th>Credit_History</th>\n",
              "      <th>Property_Area</th>\n",
              "      <th>Loan_Status</th>\n",
              "    </tr>\n",
              "  </thead>\n",
              "  <tbody>\n",
              "    <tr>\n",
              "      <th>0</th>\n",
              "      <td>LP001002</td>\n",
              "      <td>Male</td>\n",
              "      <td>No</td>\n",
              "      <td>0</td>\n",
              "      <td>Graduate</td>\n",
              "      <td>No</td>\n",
              "      <td>5849</td>\n",
              "      <td>0.0</td>\n",
              "      <td>NaN</td>\n",
              "      <td>360.0</td>\n",
              "      <td>1.0</td>\n",
              "      <td>Urban</td>\n",
              "      <td>Y</td>\n",
              "    </tr>\n",
              "    <tr>\n",
              "      <th>1</th>\n",
              "      <td>LP001003</td>\n",
              "      <td>Male</td>\n",
              "      <td>Yes</td>\n",
              "      <td>1</td>\n",
              "      <td>Graduate</td>\n",
              "      <td>No</td>\n",
              "      <td>4583</td>\n",
              "      <td>1508.0</td>\n",
              "      <td>128.0</td>\n",
              "      <td>360.0</td>\n",
              "      <td>1.0</td>\n",
              "      <td>Rural</td>\n",
              "      <td>N</td>\n",
              "    </tr>\n",
              "    <tr>\n",
              "      <th>2</th>\n",
              "      <td>LP001005</td>\n",
              "      <td>Male</td>\n",
              "      <td>Yes</td>\n",
              "      <td>0</td>\n",
              "      <td>Graduate</td>\n",
              "      <td>Yes</td>\n",
              "      <td>3000</td>\n",
              "      <td>0.0</td>\n",
              "      <td>66.0</td>\n",
              "      <td>360.0</td>\n",
              "      <td>1.0</td>\n",
              "      <td>Urban</td>\n",
              "      <td>Y</td>\n",
              "    </tr>\n",
              "    <tr>\n",
              "      <th>3</th>\n",
              "      <td>LP001006</td>\n",
              "      <td>Male</td>\n",
              "      <td>Yes</td>\n",
              "      <td>0</td>\n",
              "      <td>Not Graduate</td>\n",
              "      <td>No</td>\n",
              "      <td>2583</td>\n",
              "      <td>2358.0</td>\n",
              "      <td>120.0</td>\n",
              "      <td>360.0</td>\n",
              "      <td>1.0</td>\n",
              "      <td>Urban</td>\n",
              "      <td>Y</td>\n",
              "    </tr>\n",
              "    <tr>\n",
              "      <th>4</th>\n",
              "      <td>LP001008</td>\n",
              "      <td>Male</td>\n",
              "      <td>No</td>\n",
              "      <td>0</td>\n",
              "      <td>Graduate</td>\n",
              "      <td>No</td>\n",
              "      <td>6000</td>\n",
              "      <td>0.0</td>\n",
              "      <td>141.0</td>\n",
              "      <td>360.0</td>\n",
              "      <td>1.0</td>\n",
              "      <td>Urban</td>\n",
              "      <td>Y</td>\n",
              "    </tr>\n",
              "  </tbody>\n",
              "</table>\n",
              "</div>"
            ],
            "text/plain": [
              "    Loan_ID Gender Married  ... Credit_History Property_Area Loan_Status\n",
              "0  LP001002   Male      No  ...            1.0         Urban           Y\n",
              "1  LP001003   Male     Yes  ...            1.0         Rural           N\n",
              "2  LP001005   Male     Yes  ...            1.0         Urban           Y\n",
              "3  LP001006   Male     Yes  ...            1.0         Urban           Y\n",
              "4  LP001008   Male      No  ...            1.0         Urban           Y\n",
              "\n",
              "[5 rows x 13 columns]"
            ]
          },
          "metadata": {
            "tags": []
          },
          "execution_count": 4
        }
      ]
    },
    {
      "cell_type": "code",
      "metadata": {
        "colab": {
          "base_uri": "https://localhost:8080/",
          "height": 241
        },
        "id": "37s7ruBwW1HH",
        "outputId": "ce208e7a-d1e6-4053-f14c-1ff3184bf630"
      },
      "source": [
        "df_test.head()"
      ],
      "execution_count": 5,
      "outputs": [
        {
          "output_type": "execute_result",
          "data": {
            "text/html": [
              "<div>\n",
              "<style scoped>\n",
              "    .dataframe tbody tr th:only-of-type {\n",
              "        vertical-align: middle;\n",
              "    }\n",
              "\n",
              "    .dataframe tbody tr th {\n",
              "        vertical-align: top;\n",
              "    }\n",
              "\n",
              "    .dataframe thead th {\n",
              "        text-align: right;\n",
              "    }\n",
              "</style>\n",
              "<table border=\"1\" class=\"dataframe\">\n",
              "  <thead>\n",
              "    <tr style=\"text-align: right;\">\n",
              "      <th></th>\n",
              "      <th>Loan_ID</th>\n",
              "      <th>Gender</th>\n",
              "      <th>Married</th>\n",
              "      <th>Dependents</th>\n",
              "      <th>Education</th>\n",
              "      <th>Self_Employed</th>\n",
              "      <th>ApplicantIncome</th>\n",
              "      <th>CoapplicantIncome</th>\n",
              "      <th>LoanAmount</th>\n",
              "      <th>Loan_Amount_Term</th>\n",
              "      <th>Credit_History</th>\n",
              "      <th>Property_Area</th>\n",
              "    </tr>\n",
              "  </thead>\n",
              "  <tbody>\n",
              "    <tr>\n",
              "      <th>0</th>\n",
              "      <td>LP001015</td>\n",
              "      <td>Male</td>\n",
              "      <td>Yes</td>\n",
              "      <td>0</td>\n",
              "      <td>Graduate</td>\n",
              "      <td>No</td>\n",
              "      <td>5720</td>\n",
              "      <td>0</td>\n",
              "      <td>110.0</td>\n",
              "      <td>360.0</td>\n",
              "      <td>1.0</td>\n",
              "      <td>Urban</td>\n",
              "    </tr>\n",
              "    <tr>\n",
              "      <th>1</th>\n",
              "      <td>LP001022</td>\n",
              "      <td>Male</td>\n",
              "      <td>Yes</td>\n",
              "      <td>1</td>\n",
              "      <td>Graduate</td>\n",
              "      <td>No</td>\n",
              "      <td>3076</td>\n",
              "      <td>1500</td>\n",
              "      <td>126.0</td>\n",
              "      <td>360.0</td>\n",
              "      <td>1.0</td>\n",
              "      <td>Urban</td>\n",
              "    </tr>\n",
              "    <tr>\n",
              "      <th>2</th>\n",
              "      <td>LP001031</td>\n",
              "      <td>Male</td>\n",
              "      <td>Yes</td>\n",
              "      <td>2</td>\n",
              "      <td>Graduate</td>\n",
              "      <td>No</td>\n",
              "      <td>5000</td>\n",
              "      <td>1800</td>\n",
              "      <td>208.0</td>\n",
              "      <td>360.0</td>\n",
              "      <td>1.0</td>\n",
              "      <td>Urban</td>\n",
              "    </tr>\n",
              "    <tr>\n",
              "      <th>3</th>\n",
              "      <td>LP001035</td>\n",
              "      <td>Male</td>\n",
              "      <td>Yes</td>\n",
              "      <td>2</td>\n",
              "      <td>Graduate</td>\n",
              "      <td>No</td>\n",
              "      <td>2340</td>\n",
              "      <td>2546</td>\n",
              "      <td>100.0</td>\n",
              "      <td>360.0</td>\n",
              "      <td>NaN</td>\n",
              "      <td>Urban</td>\n",
              "    </tr>\n",
              "    <tr>\n",
              "      <th>4</th>\n",
              "      <td>LP001051</td>\n",
              "      <td>Male</td>\n",
              "      <td>No</td>\n",
              "      <td>0</td>\n",
              "      <td>Not Graduate</td>\n",
              "      <td>No</td>\n",
              "      <td>3276</td>\n",
              "      <td>0</td>\n",
              "      <td>78.0</td>\n",
              "      <td>360.0</td>\n",
              "      <td>1.0</td>\n",
              "      <td>Urban</td>\n",
              "    </tr>\n",
              "  </tbody>\n",
              "</table>\n",
              "</div>"
            ],
            "text/plain": [
              "    Loan_ID Gender Married  ... Loan_Amount_Term Credit_History Property_Area\n",
              "0  LP001015   Male     Yes  ...            360.0            1.0         Urban\n",
              "1  LP001022   Male     Yes  ...            360.0            1.0         Urban\n",
              "2  LP001031   Male     Yes  ...            360.0            1.0         Urban\n",
              "3  LP001035   Male     Yes  ...            360.0            NaN         Urban\n",
              "4  LP001051   Male      No  ...            360.0            1.0         Urban\n",
              "\n",
              "[5 rows x 12 columns]"
            ]
          },
          "metadata": {
            "tags": []
          },
          "execution_count": 5
        }
      ]
    },
    {
      "cell_type": "markdown",
      "metadata": {
        "id": "VQdvVDjFXgag"
      },
      "source": [
        "Size of each data set:"
      ]
    },
    {
      "cell_type": "code",
      "metadata": {
        "colab": {
          "base_uri": "https://localhost:8080/"
        },
        "id": "rt0qV8cNXfQ3",
        "outputId": "5d36e304-6820-4667-bf26-bb22157069fb"
      },
      "source": [
        "print(f\"training set (row, col): {df_train.shape}\\n\\ntesting set (row, col): {df_test.shape}\")"
      ],
      "execution_count": 6,
      "outputs": [
        {
          "output_type": "stream",
          "text": [
            "training set (row, col): (614, 13)\n",
            "\n",
            "testing set (row, col): (367, 12)\n"
          ],
          "name": "stdout"
        }
      ]
    },
    {
      "cell_type": "markdown",
      "metadata": {
        "id": "mBABnhpnXtn6"
      },
      "source": [
        "preprocessing of the training dataset."
      ]
    },
    {
      "cell_type": "code",
      "metadata": {
        "colab": {
          "base_uri": "https://localhost:8080/"
        },
        "id": "OFosQYVuXjLv",
        "outputId": "d7de73f2-afb3-45c2-85c4-c7af03709bef"
      },
      "source": [
        "#column information\r\n",
        "df_train.info()"
      ],
      "execution_count": 7,
      "outputs": [
        {
          "output_type": "stream",
          "text": [
            "<class 'pandas.core.frame.DataFrame'>\n",
            "RangeIndex: 614 entries, 0 to 613\n",
            "Data columns (total 13 columns):\n",
            " #   Column             Non-Null Count  Dtype  \n",
            "---  ------             --------------  -----  \n",
            " 0   Loan_ID            614 non-null    object \n",
            " 1   Gender             601 non-null    object \n",
            " 2   Married            611 non-null    object \n",
            " 3   Dependents         599 non-null    object \n",
            " 4   Education          614 non-null    object \n",
            " 5   Self_Employed      582 non-null    object \n",
            " 6   ApplicantIncome    614 non-null    int64  \n",
            " 7   CoapplicantIncome  614 non-null    float64\n",
            " 8   LoanAmount         592 non-null    float64\n",
            " 9   Loan_Amount_Term   600 non-null    float64\n",
            " 10  Credit_History     564 non-null    float64\n",
            " 11  Property_Area      614 non-null    object \n",
            " 12  Loan_Status        614 non-null    object \n",
            "dtypes: float64(4), int64(1), object(8)\n",
            "memory usage: 62.5+ KB\n"
          ],
          "name": "stdout"
        }
      ]
    },
    {
      "cell_type": "code",
      "metadata": {
        "colab": {
          "base_uri": "https://localhost:8080/",
          "height": 317
        },
        "id": "i6fGZH5XX2pw",
        "outputId": "afa35d17-40bf-4a3f-dc14-695c2141b4b9"
      },
      "source": [
        "#summary statistics\r\n",
        "df_train.describe()"
      ],
      "execution_count": 8,
      "outputs": [
        {
          "output_type": "execute_result",
          "data": {
            "text/html": [
              "<div>\n",
              "<style scoped>\n",
              "    .dataframe tbody tr th:only-of-type {\n",
              "        vertical-align: middle;\n",
              "    }\n",
              "\n",
              "    .dataframe tbody tr th {\n",
              "        vertical-align: top;\n",
              "    }\n",
              "\n",
              "    .dataframe thead th {\n",
              "        text-align: right;\n",
              "    }\n",
              "</style>\n",
              "<table border=\"1\" class=\"dataframe\">\n",
              "  <thead>\n",
              "    <tr style=\"text-align: right;\">\n",
              "      <th></th>\n",
              "      <th>ApplicantIncome</th>\n",
              "      <th>CoapplicantIncome</th>\n",
              "      <th>LoanAmount</th>\n",
              "      <th>Loan_Amount_Term</th>\n",
              "      <th>Credit_History</th>\n",
              "    </tr>\n",
              "  </thead>\n",
              "  <tbody>\n",
              "    <tr>\n",
              "      <th>count</th>\n",
              "      <td>614.000000</td>\n",
              "      <td>614.000000</td>\n",
              "      <td>592.000000</td>\n",
              "      <td>600.00000</td>\n",
              "      <td>564.000000</td>\n",
              "    </tr>\n",
              "    <tr>\n",
              "      <th>mean</th>\n",
              "      <td>5403.459283</td>\n",
              "      <td>1621.245798</td>\n",
              "      <td>146.412162</td>\n",
              "      <td>342.00000</td>\n",
              "      <td>0.842199</td>\n",
              "    </tr>\n",
              "    <tr>\n",
              "      <th>std</th>\n",
              "      <td>6109.041673</td>\n",
              "      <td>2926.248369</td>\n",
              "      <td>85.587325</td>\n",
              "      <td>65.12041</td>\n",
              "      <td>0.364878</td>\n",
              "    </tr>\n",
              "    <tr>\n",
              "      <th>min</th>\n",
              "      <td>150.000000</td>\n",
              "      <td>0.000000</td>\n",
              "      <td>9.000000</td>\n",
              "      <td>12.00000</td>\n",
              "      <td>0.000000</td>\n",
              "    </tr>\n",
              "    <tr>\n",
              "      <th>25%</th>\n",
              "      <td>2877.500000</td>\n",
              "      <td>0.000000</td>\n",
              "      <td>100.000000</td>\n",
              "      <td>360.00000</td>\n",
              "      <td>1.000000</td>\n",
              "    </tr>\n",
              "    <tr>\n",
              "      <th>50%</th>\n",
              "      <td>3812.500000</td>\n",
              "      <td>1188.500000</td>\n",
              "      <td>128.000000</td>\n",
              "      <td>360.00000</td>\n",
              "      <td>1.000000</td>\n",
              "    </tr>\n",
              "    <tr>\n",
              "      <th>75%</th>\n",
              "      <td>5795.000000</td>\n",
              "      <td>2297.250000</td>\n",
              "      <td>168.000000</td>\n",
              "      <td>360.00000</td>\n",
              "      <td>1.000000</td>\n",
              "    </tr>\n",
              "    <tr>\n",
              "      <th>max</th>\n",
              "      <td>81000.000000</td>\n",
              "      <td>41667.000000</td>\n",
              "      <td>700.000000</td>\n",
              "      <td>480.00000</td>\n",
              "      <td>1.000000</td>\n",
              "    </tr>\n",
              "  </tbody>\n",
              "</table>\n",
              "</div>"
            ],
            "text/plain": [
              "       ApplicantIncome  CoapplicantIncome  ...  Loan_Amount_Term  Credit_History\n",
              "count       614.000000         614.000000  ...         600.00000      564.000000\n",
              "mean       5403.459283        1621.245798  ...         342.00000        0.842199\n",
              "std        6109.041673        2926.248369  ...          65.12041        0.364878\n",
              "min         150.000000           0.000000  ...          12.00000        0.000000\n",
              "25%        2877.500000           0.000000  ...         360.00000        1.000000\n",
              "50%        3812.500000        1188.500000  ...         360.00000        1.000000\n",
              "75%        5795.000000        2297.250000  ...         360.00000        1.000000\n",
              "max       81000.000000       41667.000000  ...         480.00000        1.000000\n",
              "\n",
              "[8 rows x 5 columns]"
            ]
          },
          "metadata": {
            "tags": []
          },
          "execution_count": 8
        }
      ]
    },
    {
      "cell_type": "code",
      "metadata": {
        "colab": {
          "base_uri": "https://localhost:8080/"
        },
        "id": "W-7iRau_X7eQ",
        "outputId": "eeba560e-3e75-486a-907f-2f6fdb586378"
      },
      "source": [
        "#the Id column is not needed, let's drop it for both test and train datasets\r\n",
        "df_train.drop('Loan_ID',axis=1,inplace=True)\r\n",
        "df_test.drop('Loan_ID',axis=1,inplace=True)\r\n",
        "\r\n",
        "#checking the new shapes\r\n",
        "print(f\"training set (row, col): {df_train.shape}\\n\\ntesting set (row, col): {df_test.shape}\")"
      ],
      "execution_count": 9,
      "outputs": [
        {
          "output_type": "stream",
          "text": [
            "training set (row, col): (614, 12)\n",
            "\n",
            "testing set (row, col): (367, 11)\n"
          ],
          "name": "stdout"
        }
      ]
    },
    {
      "cell_type": "markdown",
      "metadata": {
        "id": "bqFKFD9AYH9i"
      },
      "source": [
        "**Missing values**"
      ]
    },
    {
      "cell_type": "code",
      "metadata": {
        "colab": {
          "base_uri": "https://localhost:8080/"
        },
        "id": "wlL91byZYGNY",
        "outputId": "bed9f1d1-8182-49ae-f7cb-7f4d1bb57f03"
      },
      "source": [
        "df_train.isnull().sum().sort_values(ascending=False)"
      ],
      "execution_count": 10,
      "outputs": [
        {
          "output_type": "execute_result",
          "data": {
            "text/plain": [
              "Credit_History       50\n",
              "Self_Employed        32\n",
              "LoanAmount           22\n",
              "Dependents           15\n",
              "Loan_Amount_Term     14\n",
              "Gender               13\n",
              "Married               3\n",
              "Loan_Status           0\n",
              "Property_Area         0\n",
              "CoapplicantIncome     0\n",
              "ApplicantIncome       0\n",
              "Education             0\n",
              "dtype: int64"
            ]
          },
          "metadata": {
            "tags": []
          },
          "execution_count": 10
        }
      ]
    },
    {
      "cell_type": "code",
      "metadata": {
        "colab": {
          "base_uri": "https://localhost:8080/"
        },
        "id": "B_wwZfIAYN44",
        "outputId": "a510223b-7fcd-450d-8eb9-09577d6fec70"
      },
      "source": [
        "df_test.isnull().sum()"
      ],
      "execution_count": 11,
      "outputs": [
        {
          "output_type": "execute_result",
          "data": {
            "text/plain": [
              "Gender               11\n",
              "Married               0\n",
              "Dependents           10\n",
              "Education             0\n",
              "Self_Employed        23\n",
              "ApplicantIncome       0\n",
              "CoapplicantIncome     0\n",
              "LoanAmount            5\n",
              "Loan_Amount_Term      6\n",
              "Credit_History       29\n",
              "Property_Area         0\n",
              "dtype: int64"
            ]
          },
          "metadata": {
            "tags": []
          },
          "execution_count": 11
        }
      ]
    },
    {
      "cell_type": "markdown",
      "metadata": {
        "id": "KL8g5UznZGNR"
      },
      "source": [
        "Each value will be replaced by the most frequent value (mode)."
      ]
    },
    {
      "cell_type": "code",
      "metadata": {
        "id": "RIhpp9LjZCc4"
      },
      "source": [
        "#filling the missing data\r\n",
        "\r\n",
        "for col in df_train:\r\n",
        "  df_train[col].fillna(df_train[col].dropna().mode()[0] , inplace = True)"
      ],
      "execution_count": 12,
      "outputs": []
    },
    {
      "cell_type": "code",
      "metadata": {
        "colab": {
          "base_uri": "https://localhost:8080/"
        },
        "id": "xyMlMCKlaRLx",
        "outputId": "da1f1897-24f5-4ada-99fe-0c6e553f9e3d"
      },
      "source": [
        "df_train.isnull().sum()"
      ],
      "execution_count": 13,
      "outputs": [
        {
          "output_type": "execute_result",
          "data": {
            "text/plain": [
              "Gender               0\n",
              "Married              0\n",
              "Dependents           0\n",
              "Education            0\n",
              "Self_Employed        0\n",
              "ApplicantIncome      0\n",
              "CoapplicantIncome    0\n",
              "LoanAmount           0\n",
              "Loan_Amount_Term     0\n",
              "Credit_History       0\n",
              "Property_Area        0\n",
              "Loan_Status          0\n",
              "dtype: int64"
            ]
          },
          "metadata": {
            "tags": []
          },
          "execution_count": 13
        }
      ]
    },
    {
      "cell_type": "code",
      "metadata": {
        "id": "uZBPVhd_aeSI"
      },
      "source": [
        "for col in df_test:\r\n",
        "  df_test[col].fillna(df_test[col].dropna().mode()[0] , inplace = True)"
      ],
      "execution_count": 14,
      "outputs": []
    },
    {
      "cell_type": "markdown",
      "metadata": {
        "id": "xFAFDZ2FbVi0"
      },
      "source": [
        "**Data visalization**"
      ]
    },
    {
      "cell_type": "code",
      "metadata": {
        "id": "zBqJLJAfbTgK"
      },
      "source": [
        "#list of all the numeric columns\r\n",
        "num = df_train.select_dtypes('number').columns.to_list()\r\n",
        "\r\n",
        "#list of all the categoric columns\r\n",
        "cat = df_train.select_dtypes('object').columns.to_list()\r\n",
        "\r\n",
        "#numeric df\r\n",
        "loan_num =  df_train[num]\r\n",
        "#categoric df\r\n",
        "loan_cat =  df_train[cat]"
      ],
      "execution_count": 15,
      "outputs": []
    },
    {
      "cell_type": "code",
      "metadata": {
        "colab": {
          "base_uri": "https://localhost:8080/",
          "height": 611
        },
        "id": "3HyGGBp2cCPJ",
        "outputId": "cc8169a0-678d-4e39-990e-3146dba51d24"
      },
      "source": [
        "total = float(len(df_train[cat[-1]]))\r\n",
        "\r\n",
        "plt.figure(figsize=(8,10))\r\n",
        "\r\n",
        "ax = sns.countplot(df_train[cat[-1]])\r\n",
        "\r\n",
        "for p in ax.patches:\r\n",
        "    height = p.get_height()\r\n",
        "    ax.text(p.get_x()+p.get_width()/2.,height + 3,'{:1.2f}'.format(height/total),ha=\"center\") \r\n",
        "plt.show()"
      ],
      "execution_count": 16,
      "outputs": [
        {
          "output_type": "display_data",
          "data": {
            "image/png": "[encoded data removed]",
            "text/plain": [
              "<Figure size 576x720 with 1 Axes>"
            ]
          },
          "metadata": {
            "tags": []
          }
        }
      ]
    },
    {
      "cell_type": "code",
      "metadata": {
        "colab": {
          "base_uri": "https://localhost:8080/",
          "height": 1000
        },
        "id": "23J3Q-0McPO5",
        "outputId": "5007b44c-a803-4c48-abea-9445300cb079"
      },
      "source": [
        "# Numeric\r\n",
        "for i in loan_num:\r\n",
        "    plt.hist(loan_num[i])\r\n",
        "    plt.title(i)\r\n",
        "    plt.show()"
      ],
      "execution_count": 17,
      "outputs": [
        {
          "output_type": "display_data",
          "data": {
            "image/png": "[encoded data removed]",
            "text/plain": [
              "<Figure size 432x288 with 1 Axes>"
            ]
          },
          "metadata": {
            "tags": []
          }
        },
        {
          "output_type": "display_data",
          "data": {
            "image/png": "[encoded data removed]",
            "text/plain": [
              "<Figure size 432x288 with 1 Axes>"
            ]
          },
          "metadata": {
            "tags": []
          }
        },
        {
          "output_type": "display_data",
          "data": {
            "image/png": "[encoded data removed]",
            "text/plain": [
              "<Figure size 432x288 with 1 Axes>"
            ]
          },
          "metadata": {
            "tags": []
          }
        },
        {
          "output_type": "display_data",
          "data": {
            "image/png": "[encoded data removed]",
            "text/plain": [
              "<Figure size 432x288 with 1 Axes>"
            ]
          },
          "metadata": {
            "tags": []
          }
        },
        {
          "output_type": "display_data",
          "data": {
            "image/png": "[encoded data removed]",
            "text/plain": [
              "<Figure size 432x288 with 1 Axes>"
            ]
          },
          "metadata": {
            "tags": []
          }
        }
      ]
    },
    {
      "cell_type": "markdown",
      "metadata": {
        "id": "TC5TXu60cpPF"
      },
      "source": [
        "Categorical (split by Loan status):"
      ]
    },
    {
      "cell_type": "code",
      "metadata": {
        "colab": {
          "base_uri": "https://localhost:8080/",
          "height": 1000
        },
        "id": "iwF7zKo_clWR",
        "outputId": "6062a358-0111-434f-db4e-439a7e4650ff"
      },
      "source": [
        "for i in cat[:-1]: \r\n",
        "    plt.figure(figsize=(15,10))\r\n",
        "    plt.subplot(2,3,1)\r\n",
        "    sns.countplot(x=i ,hue='Loan_Status', data=df_train ,palette='plasma')\r\n",
        "    plt.xlabel(i, fontsize=14)"
      ],
      "execution_count": 18,
      "outputs": [
        {
          "output_type": "display_data",
          "data": {
            "image/png": "[encoded data removed]",
            "text/plain": [
              "<Figure size 1080x720 with 1 Axes>"
            ]
          },
          "metadata": {
            "tags": []
          }
        },
        {
          "output_type": "display_data",
          "data": {
            "image/png": "[encoded data removed]",
            "text/plain": [
              "<Figure size 1080x720 with 1 Axes>"
            ]
          },
          "metadata": {
            "tags": []
          }
        },
        {
          "output_type": "display_data",
          "data": {
            "image/png": "[encoded data removed]",
            "text/plain": [
              "<Figure size 1080x720 with 1 Axes>"
            ]
          },
          "metadata": {
            "tags": []
          }
        },
        {
          "output_type": "display_data",
          "data": {
            "image/png": "[encoded data removed]",
            "text/plain": [
              "<Figure size 1080x720 with 1 Axes>"
            ]
          },
          "metadata": {
            "tags": []
          }
        },
        {
          "output_type": "display_data",
          "data": {
            "image/png": "[encoded data removed]",
            "text/plain": [
              "<Figure size 1080x720 with 1 Axes>"
            ]
          },
          "metadata": {
            "tags": []
          }
        },
        {
          "output_type": "display_data",
          "data": {
            "image/png": "[encoded data removed]",
            "text/plain": [
              "<Figure size 1080x720 with 1 Axes>"
            ]
          },
          "metadata": {
            "tags": []
          }
        }
      ]
    },
    {
      "cell_type": "markdown",
      "metadata": {
        "id": "HzwkZXQgc7Z7"
      },
      "source": [
        "**Encoding data to numeric**"
      ]
    },
    {
      "cell_type": "code",
      "metadata": {
        "colab": {
          "base_uri": "https://localhost:8080/"
        },
        "id": "wUuw8EwRcwch",
        "outputId": "44e27778-64fb-4a4f-a655-1d5c1f686a68"
      },
      "source": [
        "#converting categorical values to numbers\r\n",
        "\r\n",
        "to_numeric = {'Male': 1, 'Female': 2,\r\n",
        "'Yes': 1, 'No': 2,\r\n",
        "'Graduate': 1, 'Not Graduate': 2,\r\n",
        "'Urban': 3, 'Semiurban': 2,'Rural': 1,\r\n",
        "'Y': 1, 'N': 0,\r\n",
        "'3+': 3}\r\n",
        "\r\n",
        "# adding the new numeric values from the to_numeric variable to both datasets\r\n",
        "df_train = df_train.applymap(lambda lable: to_numeric.get(lable) if lable in to_numeric else lable)\r\n",
        "df_test = df_test.applymap(lambda lable: to_numeric.get(lable) if lable in to_numeric else lable)\r\n",
        "\r\n",
        "# convertind the Dependents column\r\n",
        "Dependents_ = pd.to_numeric(df_train.Dependents)\r\n",
        "Dependents__ = pd.to_numeric(df_test.Dependents)\r\n",
        "\r\n",
        "# dropping the previous Dependents column\r\n",
        "df_train.drop(['Dependents'], axis = 1, inplace = True)\r\n",
        "df_test.drop(['Dependents'], axis = 1, inplace = True)\r\n",
        "\r\n",
        "# concatination of the new Dependents column with both datasets\r\n",
        "df_train = pd.concat([df_train, Dependents_], axis = 1)\r\n",
        "df_test = pd.concat([df_test, Dependents__], axis = 1)\r\n",
        "\r\n",
        "# checking the our manipulated dataset for validation\r\n",
        "print(f\"training set (row, col): {df_train.shape}\\n\\ntesting set (row, col): {df_test.shape}\\n\")"
      ],
      "execution_count": 19,
      "outputs": [
        {
          "output_type": "stream",
          "text": [
            "training set (row, col): (614, 12)\n",
            "\n",
            "testing set (row, col): (367, 11)\n",
            "\n"
          ],
          "name": "stdout"
        }
      ]
    },
    {
      "cell_type": "markdown",
      "metadata": {
        "id": "v6FGGpUUdeDO"
      },
      "source": [
        "Correlation matrix"
      ]
    },
    {
      "cell_type": "code",
      "metadata": {
        "colab": {
          "base_uri": "https://localhost:8080/",
          "height": 386
        },
        "id": "BS2WhiQydcV0",
        "outputId": "c60b3f46-2f88-4604-f9f7-06ac1bc529c2"
      },
      "source": [
        "#plotting the correlation matrix\r\n",
        "\r\n",
        "sns.heatmap(df_train.corr())"
      ],
      "execution_count": 20,
      "outputs": [
        {
          "output_type": "execute_result",
          "data": {
            "text/plain": [
              "<matplotlib.axes._subplots.AxesSubplot at 0x7f04df0c8150>"
            ]
          },
          "metadata": {
            "tags": []
          },
          "execution_count": 20
        },
        {
          "output_type": "display_data",
          "data": {
            "image/png": "[encoded data removed]",
            "text/plain": [
              "<Figure size 432x288 with 2 Axes>"
            ]
          },
          "metadata": {
            "tags": []
          }
        }
      ]
    },
    {
      "cell_type": "markdown",
      "metadata": {
        "id": "I-moPtaVdn-k"
      },
      "source": [
        "Correlation table for a more detailed analysis:"
      ]
    },
    {
      "cell_type": "code",
      "metadata": {
        "colab": {
          "base_uri": "https://localhost:8080/",
          "height": 312
        },
        "id": "2JNDNuDPdhzC",
        "outputId": "f28155e0-c021-4b60-d4a9-1a59589a45e5"
      },
      "source": [
        "#correlation table\r\n",
        "corr = df_train.corr()\r\n",
        "corr.style.background_gradient(cmap='coolwarm').set_precision(2)"
      ],
      "execution_count": 21,
      "outputs": [
        {
          "output_type": "execute_result",
          "data": {
            "text/html": [
              "<style  type=\"text/css\" >\n",
              "#T_d46acaae_7ca1_11eb_893b_0242ac1c0002row0_col0,#T_d46acaae_7ca1_11eb_893b_0242ac1c0002row1_col1,#T_d46acaae_7ca1_11eb_893b_0242ac1c0002row2_col2,#T_d46acaae_7ca1_11eb_893b_0242ac1c0002row3_col3,#T_d46acaae_7ca1_11eb_893b_0242ac1c0002row4_col4,#T_d46acaae_7ca1_11eb_893b_0242ac1c0002row5_col5,#T_d46acaae_7ca1_11eb_893b_0242ac1c0002row6_col6,#T_d46acaae_7ca1_11eb_893b_0242ac1c0002row7_col7,#T_d46acaae_7ca1_11eb_893b_0242ac1c0002row8_col8,#T_d46acaae_7ca1_11eb_893b_0242ac1c0002row9_col9,#T_d46acaae_7ca1_11eb_893b_0242ac1c0002row10_col10,#T_d46acaae_7ca1_11eb_893b_0242ac1c0002row11_col11{\n",
              "            background-color:  #b40426;\n",
              "            color:  #f1f1f1;\n",
              "        }#T_d46acaae_7ca1_11eb_893b_0242ac1c0002row0_col1{\n",
              "            background-color:  #e3d9d3;\n",
              "            color:  #000000;\n",
              "        }#T_d46acaae_7ca1_11eb_893b_0242ac1c0002row0_col2,#T_d46acaae_7ca1_11eb_893b_0242ac1c0002row2_col0,#T_d46acaae_7ca1_11eb_893b_0242ac1c0002row8_col4{\n",
              "            background-color:  #5b7ae5;\n",
              "            color:  #000000;\n",
              "        }#T_d46acaae_7ca1_11eb_893b_0242ac1c0002row0_col3,#T_d46acaae_7ca1_11eb_893b_0242ac1c0002row9_col10{\n",
              "            background-color:  #5d7ce6;\n",
              "            color:  #000000;\n",
              "        }#T_d46acaae_7ca1_11eb_893b_0242ac1c0002row0_col4,#T_d46acaae_7ca1_11eb_893b_0242ac1c0002row8_col9,#T_d46acaae_7ca1_11eb_893b_0242ac1c0002row9_col8,#T_d46acaae_7ca1_11eb_893b_0242ac1c0002row10_col2,#T_d46acaae_7ca1_11eb_893b_0242ac1c0002row10_col7,#T_d46acaae_7ca1_11eb_893b_0242ac1c0002row11_col9{\n",
              "            background-color:  #506bda;\n",
              "            color:  #000000;\n",
              "        }#T_d46acaae_7ca1_11eb_893b_0242ac1c0002row0_col5,#T_d46acaae_7ca1_11eb_893b_0242ac1c0002row5_col10,#T_d46acaae_7ca1_11eb_893b_0242ac1c0002row11_col8{\n",
              "            background-color:  #4358cb;\n",
              "            color:  #f1f1f1;\n",
              "        }#T_d46acaae_7ca1_11eb_893b_0242ac1c0002row0_col6,#T_d46acaae_7ca1_11eb_893b_0242ac1c0002row4_col7,#T_d46acaae_7ca1_11eb_893b_0242ac1c0002row4_col8,#T_d46acaae_7ca1_11eb_893b_0242ac1c0002row6_col10,#T_d46acaae_7ca1_11eb_893b_0242ac1c0002row7_col5,#T_d46acaae_7ca1_11eb_893b_0242ac1c0002row10_col5{\n",
              "            background-color:  #4a63d3;\n",
              "            color:  #f1f1f1;\n",
              "        }#T_d46acaae_7ca1_11eb_893b_0242ac1c0002row0_col7{\n",
              "            background-color:  #6e90f2;\n",
              "            color:  #000000;\n",
              "        }#T_d46acaae_7ca1_11eb_893b_0242ac1c0002row0_col8,#T_d46acaae_7ca1_11eb_893b_0242ac1c0002row4_col9,#T_d46acaae_7ca1_11eb_893b_0242ac1c0002row11_col3{\n",
              "            background-color:  #4c66d6;\n",
              "            color:  #000000;\n",
              "        }#T_d46acaae_7ca1_11eb_893b_0242ac1c0002row0_col9,#T_d46acaae_7ca1_11eb_893b_0242ac1c0002row4_col0{\n",
              "            background-color:  #5875e1;\n",
              "            color:  #000000;\n",
              "        }#T_d46acaae_7ca1_11eb_893b_0242ac1c0002row0_col10,#T_d46acaae_7ca1_11eb_893b_0242ac1c0002row1_col9,#T_d46acaae_7ca1_11eb_893b_0242ac1c0002row3_col8,#T_d46acaae_7ca1_11eb_893b_0242ac1c0002row6_col8{\n",
              "            background-color:  #4f69d9;\n",
              "            color:  #000000;\n",
              "        }#T_d46acaae_7ca1_11eb_893b_0242ac1c0002row0_col11,#T_d46acaae_7ca1_11eb_893b_0242ac1c0002row3_col5,#T_d46acaae_7ca1_11eb_893b_0242ac1c0002row10_col4,#T_d46acaae_7ca1_11eb_893b_0242ac1c0002row10_col6{\n",
              "            background-color:  #5f7fe8;\n",
              "            color:  #000000;\n",
              "        }#T_d46acaae_7ca1_11eb_893b_0242ac1c0002row1_col0{\n",
              "            background-color:  #d2dbe8;\n",
              "            color:  #000000;\n",
              "        }#T_d46acaae_7ca1_11eb_893b_0242ac1c0002row1_col2{\n",
              "            background-color:  #6485ec;\n",
              "            color:  #000000;\n",
              "        }#T_d46acaae_7ca1_11eb_893b_0242ac1c0002row1_col3,#T_d46acaae_7ca1_11eb_893b_0242ac1c0002row8_col3,#T_d46acaae_7ca1_11eb_893b_0242ac1c0002row8_col5,#T_d46acaae_7ca1_11eb_893b_0242ac1c0002row9_col4,#T_d46acaae_7ca1_11eb_893b_0242ac1c0002row9_col5,#T_d46acaae_7ca1_11eb_893b_0242ac1c0002row10_col3{\n",
              "            background-color:  #5e7de7;\n",
              "            color:  #000000;\n",
              "        }#T_d46acaae_7ca1_11eb_893b_0242ac1c0002row1_col4,#T_d46acaae_7ca1_11eb_893b_0242ac1c0002row5_col0{\n",
              "            background-color:  #516ddb;\n",
              "            color:  #000000;\n",
              "        }#T_d46acaae_7ca1_11eb_893b_0242ac1c0002row1_col5{\n",
              "            background-color:  #455cce;\n",
              "            color:  #f1f1f1;\n",
              "        }#T_d46acaae_7ca1_11eb_893b_0242ac1c0002row1_col6,#T_d46acaae_7ca1_11eb_893b_0242ac1c0002row5_col4{\n",
              "            background-color:  #4055c8;\n",
              "            color:  #f1f1f1;\n",
              "        }#T_d46acaae_7ca1_11eb_893b_0242ac1c0002row1_col7{\n",
              "            background-color:  #7699f6;\n",
              "            color:  #000000;\n",
              "        }#T_d46acaae_7ca1_11eb_893b_0242ac1c0002row1_col8,#T_d46acaae_7ca1_11eb_893b_0242ac1c0002row6_col0{\n",
              "            background-color:  #4b64d5;\n",
              "            color:  #f1f1f1;\n",
              "        }#T_d46acaae_7ca1_11eb_893b_0242ac1c0002row1_col10,#T_d46acaae_7ca1_11eb_893b_0242ac1c0002row1_col11,#T_d46acaae_7ca1_11eb_893b_0242ac1c0002row2_col4,#T_d46acaae_7ca1_11eb_893b_0242ac1c0002row2_col6,#T_d46acaae_7ca1_11eb_893b_0242ac1c0002row2_col8,#T_d46acaae_7ca1_11eb_893b_0242ac1c0002row4_col3,#T_d46acaae_7ca1_11eb_893b_0242ac1c0002row4_col5,#T_d46acaae_7ca1_11eb_893b_0242ac1c0002row6_col2,#T_d46acaae_7ca1_11eb_893b_0242ac1c0002row7_col9,#T_d46acaae_7ca1_11eb_893b_0242ac1c0002row11_col0,#T_d46acaae_7ca1_11eb_893b_0242ac1c0002row11_col1,#T_d46acaae_7ca1_11eb_893b_0242ac1c0002row11_col7{\n",
              "            background-color:  #3b4cc0;\n",
              "            color:  #f1f1f1;\n",
              "        }#T_d46acaae_7ca1_11eb_893b_0242ac1c0002row2_col1{\n",
              "            background-color:  #89acfd;\n",
              "            color:  #000000;\n",
              "        }#T_d46acaae_7ca1_11eb_893b_0242ac1c0002row2_col3,#T_d46acaae_7ca1_11eb_893b_0242ac1c0002row3_col7{\n",
              "            background-color:  #6180e9;\n",
              "            color:  #000000;\n",
              "        }#T_d46acaae_7ca1_11eb_893b_0242ac1c0002row2_col5{\n",
              "            background-color:  #4961d2;\n",
              "            color:  #f1f1f1;\n",
              "        }#T_d46acaae_7ca1_11eb_893b_0242ac1c0002row2_col7,#T_d46acaae_7ca1_11eb_893b_0242ac1c0002row4_col2,#T_d46acaae_7ca1_11eb_893b_0242ac1c0002row6_col9,#T_d46acaae_7ca1_11eb_893b_0242ac1c0002row9_col7{\n",
              "            background-color:  #4257c9;\n",
              "            color:  #f1f1f1;\n",
              "        }#T_d46acaae_7ca1_11eb_893b_0242ac1c0002row2_col9,#T_d46acaae_7ca1_11eb_893b_0242ac1c0002row6_col3{\n",
              "            background-color:  #3d50c3;\n",
              "            color:  #f1f1f1;\n",
              "        }#T_d46acaae_7ca1_11eb_893b_0242ac1c0002row2_col10{\n",
              "            background-color:  #3c4ec2;\n",
              "            color:  #f1f1f1;\n",
              "        }#T_d46acaae_7ca1_11eb_893b_0242ac1c0002row2_col11{\n",
              "            background-color:  #9bbcff;\n",
              "            color:  #000000;\n",
              "        }#T_d46acaae_7ca1_11eb_893b_0242ac1c0002row3_col0,#T_d46acaae_7ca1_11eb_893b_0242ac1c0002row8_col6{\n",
              "            background-color:  #688aef;\n",
              "            color:  #000000;\n",
              "        }#T_d46acaae_7ca1_11eb_893b_0242ac1c0002row3_col1,#T_d46acaae_7ca1_11eb_893b_0242ac1c0002row9_col11{\n",
              "            background-color:  #8db0fe;\n",
              "            color:  #000000;\n",
              "        }#T_d46acaae_7ca1_11eb_893b_0242ac1c0002row3_col2{\n",
              "            background-color:  #6b8df0;\n",
              "            color:  #000000;\n",
              "        }#T_d46acaae_7ca1_11eb_893b_0242ac1c0002row3_col4{\n",
              "            background-color:  #3e51c5;\n",
              "            color:  #f1f1f1;\n",
              "        }#T_d46acaae_7ca1_11eb_893b_0242ac1c0002row3_col6{\n",
              "            background-color:  #485fd1;\n",
              "            color:  #f1f1f1;\n",
              "        }#T_d46acaae_7ca1_11eb_893b_0242ac1c0002row3_col9,#T_d46acaae_7ca1_11eb_893b_0242ac1c0002row10_col9{\n",
              "            background-color:  #5977e3;\n",
              "            color:  #000000;\n",
              "        }#T_d46acaae_7ca1_11eb_893b_0242ac1c0002row3_col10,#T_d46acaae_7ca1_11eb_893b_0242ac1c0002row8_col7,#T_d46acaae_7ca1_11eb_893b_0242ac1c0002row9_col2{\n",
              "            background-color:  #5572df;\n",
              "            color:  #000000;\n",
              "        }#T_d46acaae_7ca1_11eb_893b_0242ac1c0002row3_col11,#T_d46acaae_7ca1_11eb_893b_0242ac1c0002row7_col0{\n",
              "            background-color:  #7ea1fa;\n",
              "            color:  #000000;\n",
              "        }#T_d46acaae_7ca1_11eb_893b_0242ac1c0002row4_col1{\n",
              "            background-color:  #80a3fa;\n",
              "            color:  #000000;\n",
              "        }#T_d46acaae_7ca1_11eb_893b_0242ac1c0002row4_col6{\n",
              "            background-color:  #f5c4ac;\n",
              "            color:  #000000;\n",
              "        }#T_d46acaae_7ca1_11eb_893b_0242ac1c0002row4_col10,#T_d46acaae_7ca1_11eb_893b_0242ac1c0002row5_col8,#T_d46acaae_7ca1_11eb_893b_0242ac1c0002row5_col9,#T_d46acaae_7ca1_11eb_893b_0242ac1c0002row7_col2,#T_d46acaae_7ca1_11eb_893b_0242ac1c0002row8_col2{\n",
              "            background-color:  #536edd;\n",
              "            color:  #000000;\n",
              "        }#T_d46acaae_7ca1_11eb_893b_0242ac1c0002row4_col11{\n",
              "            background-color:  #abc8fd;\n",
              "            color:  #000000;\n",
              "        }#T_d46acaae_7ca1_11eb_893b_0242ac1c0002row5_col1,#T_d46acaae_7ca1_11eb_893b_0242ac1c0002row11_col2{\n",
              "            background-color:  #799cf8;\n",
              "            color:  #000000;\n",
              "        }#T_d46acaae_7ca1_11eb_893b_0242ac1c0002row5_col2,#T_d46acaae_7ca1_11eb_893b_0242ac1c0002row11_col10{\n",
              "            background-color:  #5673e0;\n",
              "            color:  #000000;\n",
              "        }#T_d46acaae_7ca1_11eb_893b_0242ac1c0002row5_col3,#T_d46acaae_7ca1_11eb_893b_0242ac1c0002row6_col7{\n",
              "            background-color:  #6282ea;\n",
              "            color:  #000000;\n",
              "        }#T_d46acaae_7ca1_11eb_893b_0242ac1c0002row5_col6{\n",
              "            background-color:  #a1c0ff;\n",
              "            color:  #000000;\n",
              "        }#T_d46acaae_7ca1_11eb_893b_0242ac1c0002row5_col7{\n",
              "            background-color:  #465ecf;\n",
              "            color:  #f1f1f1;\n",
              "        }#T_d46acaae_7ca1_11eb_893b_0242ac1c0002row5_col11{\n",
              "            background-color:  #94b6ff;\n",
              "            color:  #000000;\n",
              "        }#T_d46acaae_7ca1_11eb_893b_0242ac1c0002row6_col1,#T_d46acaae_7ca1_11eb_893b_0242ac1c0002row7_col3{\n",
              "            background-color:  #6788ee;\n",
              "            color:  #000000;\n",
              "        }#T_d46acaae_7ca1_11eb_893b_0242ac1c0002row6_col4{\n",
              "            background-color:  #f4c6af;\n",
              "            color:  #000000;\n",
              "        }#T_d46acaae_7ca1_11eb_893b_0242ac1c0002row6_col5{\n",
              "            background-color:  #96b7ff;\n",
              "            color:  #000000;\n",
              "        }#T_d46acaae_7ca1_11eb_893b_0242ac1c0002row6_col11{\n",
              "            background-color:  #b7cff9;\n",
              "            color:  #000000;\n",
              "        }#T_d46acaae_7ca1_11eb_893b_0242ac1c0002row7_col1{\n",
              "            background-color:  #a7c5fe;\n",
              "            color:  #000000;\n",
              "        }#T_d46acaae_7ca1_11eb_893b_0242ac1c0002row7_col4{\n",
              "            background-color:  #5470de;\n",
              "            color:  #000000;\n",
              "        }#T_d46acaae_7ca1_11eb_893b_0242ac1c0002row7_col6{\n",
              "            background-color:  #7396f5;\n",
              "            color:  #000000;\n",
              "        }#T_d46acaae_7ca1_11eb_893b_0242ac1c0002row7_col8,#T_d46acaae_7ca1_11eb_893b_0242ac1c0002row7_col10{\n",
              "            background-color:  #4e68d8;\n",
              "            color:  #000000;\n",
              "        }#T_d46acaae_7ca1_11eb_893b_0242ac1c0002row7_col11{\n",
              "            background-color:  #7295f4;\n",
              "            color:  #000000;\n",
              "        }#T_d46acaae_7ca1_11eb_893b_0242ac1c0002row8_col0,#T_d46acaae_7ca1_11eb_893b_0242ac1c0002row9_col3{\n",
              "            background-color:  #6687ed;\n",
              "            color:  #000000;\n",
              "        }#T_d46acaae_7ca1_11eb_893b_0242ac1c0002row8_col1{\n",
              "            background-color:  #8badfd;\n",
              "            color:  #000000;\n",
              "        }#T_d46acaae_7ca1_11eb_893b_0242ac1c0002row8_col10{\n",
              "            background-color:  #efcfbf;\n",
              "            color:  #000000;\n",
              "        }#T_d46acaae_7ca1_11eb_893b_0242ac1c0002row8_col11{\n",
              "            background-color:  #82a6fb;\n",
              "            color:  #000000;\n",
              "        }#T_d46acaae_7ca1_11eb_893b_0242ac1c0002row9_col0{\n",
              "            background-color:  #7093f3;\n",
              "            color:  #000000;\n",
              "        }#T_d46acaae_7ca1_11eb_893b_0242ac1c0002row9_col1{\n",
              "            background-color:  #8caffe;\n",
              "            color:  #000000;\n",
              "        }#T_d46acaae_7ca1_11eb_893b_0242ac1c0002row9_col6{\n",
              "            background-color:  #5a78e4;\n",
              "            color:  #000000;\n",
              "        }#T_d46acaae_7ca1_11eb_893b_0242ac1c0002row10_col0,#T_d46acaae_7ca1_11eb_893b_0242ac1c0002row11_col5{\n",
              "            background-color:  #6384eb;\n",
              "            color:  #000000;\n",
              "        }#T_d46acaae_7ca1_11eb_893b_0242ac1c0002row10_col1{\n",
              "            background-color:  #7597f6;\n",
              "            color:  #000000;\n",
              "        }#T_d46acaae_7ca1_11eb_893b_0242ac1c0002row10_col8{\n",
              "            background-color:  #edd1c2;\n",
              "            color:  #000000;\n",
              "        }#T_d46acaae_7ca1_11eb_893b_0242ac1c0002row10_col11{\n",
              "            background-color:  #90b2fe;\n",
              "            color:  #000000;\n",
              "        }#T_d46acaae_7ca1_11eb_893b_0242ac1c0002row11_col4{\n",
              "            background-color:  #85a8fc;\n",
              "            color:  #000000;\n",
              "        }#T_d46acaae_7ca1_11eb_893b_0242ac1c0002row11_col6{\n",
              "            background-color:  #98b9ff;\n",
              "            color:  #000000;\n",
              "        }</style><table id=\"T_d46acaae_7ca1_11eb_893b_0242ac1c0002\" ><thead>    <tr>        <th class=\"blank level0\" ></th>        <th class=\"col_heading level0 col0\" >Gender</th>        <th class=\"col_heading level0 col1\" >Married</th>        <th class=\"col_heading level0 col2\" >Education</th>        <th class=\"col_heading level0 col3\" >Self_Employed</th>        <th class=\"col_heading level0 col4\" >ApplicantIncome</th>        <th class=\"col_heading level0 col5\" >CoapplicantIncome</th>        <th class=\"col_heading level0 col6\" >LoanAmount</th>        <th class=\"col_heading level0 col7\" >Loan_Amount_Term</th>        <th class=\"col_heading level0 col8\" >Credit_History</th>        <th class=\"col_heading level0 col9\" >Property_Area</th>        <th class=\"col_heading level0 col10\" >Loan_Status</th>        <th class=\"col_heading level0 col11\" >Dependents</th>    </tr></thead><tbody>\n",
              "                <tr>\n",
              "                        <th id=\"T_d46acaae_7ca1_11eb_893b_0242ac1c0002level0_row0\" class=\"row_heading level0 row0\" >Gender</th>\n",
              "                        <td id=\"T_d46acaae_7ca1_11eb_893b_0242ac1c0002row0_col0\" class=\"data row0 col0\" >1.00</td>\n",
              "                        <td id=\"T_d46acaae_7ca1_11eb_893b_0242ac1c0002row0_col1\" class=\"data row0 col1\" >0.36</td>\n",
              "                        <td id=\"T_d46acaae_7ca1_11eb_893b_0242ac1c0002row0_col2\" class=\"data row0 col2\" >-0.05</td>\n",
              "                        <td id=\"T_d46acaae_7ca1_11eb_893b_0242ac1c0002row0_col3\" class=\"data row0 col3\" >-0.00</td>\n",
              "                        <td id=\"T_d46acaae_7ca1_11eb_893b_0242ac1c0002row0_col4\" class=\"data row0 col4\" >-0.06</td>\n",
              "                        <td id=\"T_d46acaae_7ca1_11eb_893b_0242ac1c0002row0_col5\" class=\"data row0 col5\" >-0.08</td>\n",
              "                        <td id=\"T_d46acaae_7ca1_11eb_893b_0242ac1c0002row0_col6\" class=\"data row0 col6\" >-0.11</td>\n",
              "                        <td id=\"T_d46acaae_7ca1_11eb_893b_0242ac1c0002row0_col7\" class=\"data row0 col7\" >0.07</td>\n",
              "                        <td id=\"T_d46acaae_7ca1_11eb_893b_0242ac1c0002row0_col8\" class=\"data row0 col8\" >-0.01</td>\n",
              "                        <td id=\"T_d46acaae_7ca1_11eb_893b_0242ac1c0002row0_col9\" class=\"data row0 col9\" >0.03</td>\n",
              "                        <td id=\"T_d46acaae_7ca1_11eb_893b_0242ac1c0002row0_col10\" class=\"data row0 col10\" >-0.02</td>\n",
              "                        <td id=\"T_d46acaae_7ca1_11eb_893b_0242ac1c0002row0_col11\" class=\"data row0 col11\" >-0.17</td>\n",
              "            </tr>\n",
              "            <tr>\n",
              "                        <th id=\"T_d46acaae_7ca1_11eb_893b_0242ac1c0002level0_row1\" class=\"row_heading level0 row1\" >Married</th>\n",
              "                        <td id=\"T_d46acaae_7ca1_11eb_893b_0242ac1c0002row1_col0\" class=\"data row1 col0\" >0.36</td>\n",
              "                        <td id=\"T_d46acaae_7ca1_11eb_893b_0242ac1c0002row1_col1\" class=\"data row1 col1\" >1.00</td>\n",
              "                        <td id=\"T_d46acaae_7ca1_11eb_893b_0242ac1c0002row1_col2\" class=\"data row1 col2\" >-0.01</td>\n",
              "                        <td id=\"T_d46acaae_7ca1_11eb_893b_0242ac1c0002row1_col3\" class=\"data row1 col3\" >0.00</td>\n",
              "                        <td id=\"T_d46acaae_7ca1_11eb_893b_0242ac1c0002row1_col4\" class=\"data row1 col4\" >-0.05</td>\n",
              "                        <td id=\"T_d46acaae_7ca1_11eb_893b_0242ac1c0002row1_col5\" class=\"data row1 col5\" >-0.08</td>\n",
              "                        <td id=\"T_d46acaae_7ca1_11eb_893b_0242ac1c0002row1_col6\" class=\"data row1 col6\" >-0.15</td>\n",
              "                        <td id=\"T_d46acaae_7ca1_11eb_893b_0242ac1c0002row1_col7\" class=\"data row1 col7\" >0.10</td>\n",
              "                        <td id=\"T_d46acaae_7ca1_11eb_893b_0242ac1c0002row1_col8\" class=\"data row1 col8\" >-0.01</td>\n",
              "                        <td id=\"T_d46acaae_7ca1_11eb_893b_0242ac1c0002row1_col9\" class=\"data row1 col9\" >-0.00</td>\n",
              "                        <td id=\"T_d46acaae_7ca1_11eb_893b_0242ac1c0002row1_col10\" class=\"data row1 col10\" >-0.09</td>\n",
              "                        <td id=\"T_d46acaae_7ca1_11eb_893b_0242ac1c0002row1_col11\" class=\"data row1 col11\" >-0.33</td>\n",
              "            </tr>\n",
              "            <tr>\n",
              "                        <th id=\"T_d46acaae_7ca1_11eb_893b_0242ac1c0002level0_row2\" class=\"row_heading level0 row2\" >Education</th>\n",
              "                        <td id=\"T_d46acaae_7ca1_11eb_893b_0242ac1c0002row2_col0\" class=\"data row2 col0\" >-0.05</td>\n",
              "                        <td id=\"T_d46acaae_7ca1_11eb_893b_0242ac1c0002row2_col1\" class=\"data row2 col1\" >-0.01</td>\n",
              "                        <td id=\"T_d46acaae_7ca1_11eb_893b_0242ac1c0002row2_col2\" class=\"data row2 col2\" >1.00</td>\n",
              "                        <td id=\"T_d46acaae_7ca1_11eb_893b_0242ac1c0002row2_col3\" class=\"data row2 col3\" >0.01</td>\n",
              "                        <td id=\"T_d46acaae_7ca1_11eb_893b_0242ac1c0002row2_col4\" class=\"data row2 col4\" >-0.14</td>\n",
              "                        <td id=\"T_d46acaae_7ca1_11eb_893b_0242ac1c0002row2_col5\" class=\"data row2 col5\" >-0.06</td>\n",
              "                        <td id=\"T_d46acaae_7ca1_11eb_893b_0242ac1c0002row2_col6\" class=\"data row2 col6\" >-0.17</td>\n",
              "                        <td id=\"T_d46acaae_7ca1_11eb_893b_0242ac1c0002row2_col7\" class=\"data row2 col7\" >-0.07</td>\n",
              "                        <td id=\"T_d46acaae_7ca1_11eb_893b_0242ac1c0002row2_col8\" class=\"data row2 col8\" >-0.07</td>\n",
              "                        <td id=\"T_d46acaae_7ca1_11eb_893b_0242ac1c0002row2_col9\" class=\"data row2 col9\" >-0.07</td>\n",
              "                        <td id=\"T_d46acaae_7ca1_11eb_893b_0242ac1c0002row2_col10\" class=\"data row2 col10\" >-0.09</td>\n",
              "                        <td id=\"T_d46acaae_7ca1_11eb_893b_0242ac1c0002row2_col11\" class=\"data row2 col11\" >0.06</td>\n",
              "            </tr>\n",
              "            <tr>\n",
              "                        <th id=\"T_d46acaae_7ca1_11eb_893b_0242ac1c0002level0_row3\" class=\"row_heading level0 row3\" >Self_Employed</th>\n",
              "                        <td id=\"T_d46acaae_7ca1_11eb_893b_0242ac1c0002row3_col0\" class=\"data row3 col0\" >-0.00</td>\n",
              "                        <td id=\"T_d46acaae_7ca1_11eb_893b_0242ac1c0002row3_col1\" class=\"data row3 col1\" >0.00</td>\n",
              "                        <td id=\"T_d46acaae_7ca1_11eb_893b_0242ac1c0002row3_col2\" class=\"data row3 col2\" >0.01</td>\n",
              "                        <td id=\"T_d46acaae_7ca1_11eb_893b_0242ac1c0002row3_col3\" class=\"data row3 col3\" >1.00</td>\n",
              "                        <td id=\"T_d46acaae_7ca1_11eb_893b_0242ac1c0002row3_col4\" class=\"data row3 col4\" >-0.13</td>\n",
              "                        <td id=\"T_d46acaae_7ca1_11eb_893b_0242ac1c0002row3_col5\" class=\"data row3 col5\" >0.02</td>\n",
              "                        <td id=\"T_d46acaae_7ca1_11eb_893b_0242ac1c0002row3_col6\" class=\"data row3 col6\" >-0.11</td>\n",
              "                        <td id=\"T_d46acaae_7ca1_11eb_893b_0242ac1c0002row3_col7\" class=\"data row3 col7\" >0.03</td>\n",
              "                        <td id=\"T_d46acaae_7ca1_11eb_893b_0242ac1c0002row3_col8\" class=\"data row3 col8\" >0.00</td>\n",
              "                        <td id=\"T_d46acaae_7ca1_11eb_893b_0242ac1c0002row3_col9\" class=\"data row3 col9\" >0.03</td>\n",
              "                        <td id=\"T_d46acaae_7ca1_11eb_893b_0242ac1c0002row3_col10\" class=\"data row3 col10\" >0.00</td>\n",
              "                        <td id=\"T_d46acaae_7ca1_11eb_893b_0242ac1c0002row3_col11\" class=\"data row3 col11\" >-0.06</td>\n",
              "            </tr>\n",
              "            <tr>\n",
              "                        <th id=\"T_d46acaae_7ca1_11eb_893b_0242ac1c0002level0_row4\" class=\"row_heading level0 row4\" >ApplicantIncome</th>\n",
              "                        <td id=\"T_d46acaae_7ca1_11eb_893b_0242ac1c0002row4_col0\" class=\"data row4 col0\" >-0.06</td>\n",
              "                        <td id=\"T_d46acaae_7ca1_11eb_893b_0242ac1c0002row4_col1\" class=\"data row4 col1\" >-0.05</td>\n",
              "                        <td id=\"T_d46acaae_7ca1_11eb_893b_0242ac1c0002row4_col2\" class=\"data row4 col2\" >-0.14</td>\n",
              "                        <td id=\"T_d46acaae_7ca1_11eb_893b_0242ac1c0002row4_col3\" class=\"data row4 col3\" >-0.13</td>\n",
              "                        <td id=\"T_d46acaae_7ca1_11eb_893b_0242ac1c0002row4_col4\" class=\"data row4 col4\" >1.00</td>\n",
              "                        <td id=\"T_d46acaae_7ca1_11eb_893b_0242ac1c0002row4_col5\" class=\"data row4 col5\" >-0.12</td>\n",
              "                        <td id=\"T_d46acaae_7ca1_11eb_893b_0242ac1c0002row4_col6\" class=\"data row4 col6\" >0.56</td>\n",
              "                        <td id=\"T_d46acaae_7ca1_11eb_893b_0242ac1c0002row4_col7\" class=\"data row4 col7\" >-0.05</td>\n",
              "                        <td id=\"T_d46acaae_7ca1_11eb_893b_0242ac1c0002row4_col8\" class=\"data row4 col8\" >-0.02</td>\n",
              "                        <td id=\"T_d46acaae_7ca1_11eb_893b_0242ac1c0002row4_col9\" class=\"data row4 col9\" >-0.01</td>\n",
              "                        <td id=\"T_d46acaae_7ca1_11eb_893b_0242ac1c0002row4_col10\" class=\"data row4 col10\" >-0.00</td>\n",
              "                        <td id=\"T_d46acaae_7ca1_11eb_893b_0242ac1c0002row4_col11\" class=\"data row4 col11\" >0.12</td>\n",
              "            </tr>\n",
              "            <tr>\n",
              "                        <th id=\"T_d46acaae_7ca1_11eb_893b_0242ac1c0002level0_row5\" class=\"row_heading level0 row5\" >CoapplicantIncome</th>\n",
              "                        <td id=\"T_d46acaae_7ca1_11eb_893b_0242ac1c0002row5_col0\" class=\"data row5 col0\" >-0.08</td>\n",
              "                        <td id=\"T_d46acaae_7ca1_11eb_893b_0242ac1c0002row5_col1\" class=\"data row5 col1\" >-0.08</td>\n",
              "                        <td id=\"T_d46acaae_7ca1_11eb_893b_0242ac1c0002row5_col2\" class=\"data row5 col2\" >-0.06</td>\n",
              "                        <td id=\"T_d46acaae_7ca1_11eb_893b_0242ac1c0002row5_col3\" class=\"data row5 col3\" >0.02</td>\n",
              "                        <td id=\"T_d46acaae_7ca1_11eb_893b_0242ac1c0002row5_col4\" class=\"data row5 col4\" >-0.12</td>\n",
              "                        <td id=\"T_d46acaae_7ca1_11eb_893b_0242ac1c0002row5_col5\" class=\"data row5 col5\" >1.00</td>\n",
              "                        <td id=\"T_d46acaae_7ca1_11eb_893b_0242ac1c0002row5_col6\" class=\"data row5 col6\" >0.19</td>\n",
              "                        <td id=\"T_d46acaae_7ca1_11eb_893b_0242ac1c0002row5_col7\" class=\"data row5 col7\" >-0.06</td>\n",
              "                        <td id=\"T_d46acaae_7ca1_11eb_893b_0242ac1c0002row5_col8\" class=\"data row5 col8\" >0.01</td>\n",
              "                        <td id=\"T_d46acaae_7ca1_11eb_893b_0242ac1c0002row5_col9\" class=\"data row5 col9\" >0.01</td>\n",
              "                        <td id=\"T_d46acaae_7ca1_11eb_893b_0242ac1c0002row5_col10\" class=\"data row5 col10\" >-0.06</td>\n",
              "                        <td id=\"T_d46acaae_7ca1_11eb_893b_0242ac1c0002row5_col11\" class=\"data row5 col11\" >0.03</td>\n",
              "            </tr>\n",
              "            <tr>\n",
              "                        <th id=\"T_d46acaae_7ca1_11eb_893b_0242ac1c0002level0_row6\" class=\"row_heading level0 row6\" >LoanAmount</th>\n",
              "                        <td id=\"T_d46acaae_7ca1_11eb_893b_0242ac1c0002row6_col0\" class=\"data row6 col0\" >-0.11</td>\n",
              "                        <td id=\"T_d46acaae_7ca1_11eb_893b_0242ac1c0002row6_col1\" class=\"data row6 col1\" >-0.15</td>\n",
              "                        <td id=\"T_d46acaae_7ca1_11eb_893b_0242ac1c0002row6_col2\" class=\"data row6 col2\" >-0.17</td>\n",
              "                        <td id=\"T_d46acaae_7ca1_11eb_893b_0242ac1c0002row6_col3\" class=\"data row6 col3\" >-0.11</td>\n",
              "                        <td id=\"T_d46acaae_7ca1_11eb_893b_0242ac1c0002row6_col4\" class=\"data row6 col4\" >0.56</td>\n",
              "                        <td id=\"T_d46acaae_7ca1_11eb_893b_0242ac1c0002row6_col5\" class=\"data row6 col5\" >0.19</td>\n",
              "                        <td id=\"T_d46acaae_7ca1_11eb_893b_0242ac1c0002row6_col6\" class=\"data row6 col6\" >1.00</td>\n",
              "                        <td id=\"T_d46acaae_7ca1_11eb_893b_0242ac1c0002row6_col7\" class=\"data row6 col7\" >0.04</td>\n",
              "                        <td id=\"T_d46acaae_7ca1_11eb_893b_0242ac1c0002row6_col8\" class=\"data row6 col8\" >-0.00</td>\n",
              "                        <td id=\"T_d46acaae_7ca1_11eb_893b_0242ac1c0002row6_col9\" class=\"data row6 col9\" >-0.05</td>\n",
              "                        <td id=\"T_d46acaae_7ca1_11eb_893b_0242ac1c0002row6_col10\" class=\"data row6 col10\" >-0.03</td>\n",
              "                        <td id=\"T_d46acaae_7ca1_11eb_893b_0242ac1c0002row6_col11\" class=\"data row6 col11\" >0.16</td>\n",
              "            </tr>\n",
              "            <tr>\n",
              "                        <th id=\"T_d46acaae_7ca1_11eb_893b_0242ac1c0002level0_row7\" class=\"row_heading level0 row7\" >Loan_Amount_Term</th>\n",
              "                        <td id=\"T_d46acaae_7ca1_11eb_893b_0242ac1c0002row7_col0\" class=\"data row7 col0\" >0.07</td>\n",
              "                        <td id=\"T_d46acaae_7ca1_11eb_893b_0242ac1c0002row7_col1\" class=\"data row7 col1\" >0.10</td>\n",
              "                        <td id=\"T_d46acaae_7ca1_11eb_893b_0242ac1c0002row7_col2\" class=\"data row7 col2\" >-0.07</td>\n",
              "                        <td id=\"T_d46acaae_7ca1_11eb_893b_0242ac1c0002row7_col3\" class=\"data row7 col3\" >0.03</td>\n",
              "                        <td id=\"T_d46acaae_7ca1_11eb_893b_0242ac1c0002row7_col4\" class=\"data row7 col4\" >-0.05</td>\n",
              "                        <td id=\"T_d46acaae_7ca1_11eb_893b_0242ac1c0002row7_col5\" class=\"data row7 col5\" >-0.06</td>\n",
              "                        <td id=\"T_d46acaae_7ca1_11eb_893b_0242ac1c0002row7_col6\" class=\"data row7 col6\" >0.04</td>\n",
              "                        <td id=\"T_d46acaae_7ca1_11eb_893b_0242ac1c0002row7_col7\" class=\"data row7 col7\" >1.00</td>\n",
              "                        <td id=\"T_d46acaae_7ca1_11eb_893b_0242ac1c0002row7_col8\" class=\"data row7 col8\" >-0.00</td>\n",
              "                        <td id=\"T_d46acaae_7ca1_11eb_893b_0242ac1c0002row7_col9\" class=\"data row7 col9\" >-0.08</td>\n",
              "                        <td id=\"T_d46acaae_7ca1_11eb_893b_0242ac1c0002row7_col10\" class=\"data row7 col10\" >-0.02</td>\n",
              "                        <td id=\"T_d46acaae_7ca1_11eb_893b_0242ac1c0002row7_col11\" class=\"data row7 col11\" >-0.10</td>\n",
              "            </tr>\n",
              "            <tr>\n",
              "                        <th id=\"T_d46acaae_7ca1_11eb_893b_0242ac1c0002level0_row8\" class=\"row_heading level0 row8\" >Credit_History</th>\n",
              "                        <td id=\"T_d46acaae_7ca1_11eb_893b_0242ac1c0002row8_col0\" class=\"data row8 col0\" >-0.01</td>\n",
              "                        <td id=\"T_d46acaae_7ca1_11eb_893b_0242ac1c0002row8_col1\" class=\"data row8 col1\" >-0.01</td>\n",
              "                        <td id=\"T_d46acaae_7ca1_11eb_893b_0242ac1c0002row8_col2\" class=\"data row8 col2\" >-0.07</td>\n",
              "                        <td id=\"T_d46acaae_7ca1_11eb_893b_0242ac1c0002row8_col3\" class=\"data row8 col3\" >0.00</td>\n",
              "                        <td id=\"T_d46acaae_7ca1_11eb_893b_0242ac1c0002row8_col4\" class=\"data row8 col4\" >-0.02</td>\n",
              "                        <td id=\"T_d46acaae_7ca1_11eb_893b_0242ac1c0002row8_col5\" class=\"data row8 col5\" >0.01</td>\n",
              "                        <td id=\"T_d46acaae_7ca1_11eb_893b_0242ac1c0002row8_col6\" class=\"data row8 col6\" >-0.00</td>\n",
              "                        <td id=\"T_d46acaae_7ca1_11eb_893b_0242ac1c0002row8_col7\" class=\"data row8 col7\" >-0.00</td>\n",
              "                        <td id=\"T_d46acaae_7ca1_11eb_893b_0242ac1c0002row8_col8\" class=\"data row8 col8\" >1.00</td>\n",
              "                        <td id=\"T_d46acaae_7ca1_11eb_893b_0242ac1c0002row8_col9\" class=\"data row8 col9\" >0.00</td>\n",
              "                        <td id=\"T_d46acaae_7ca1_11eb_893b_0242ac1c0002row8_col10\" class=\"data row8 col10\" >0.54</td>\n",
              "                        <td id=\"T_d46acaae_7ca1_11eb_893b_0242ac1c0002row8_col11\" class=\"data row8 col11\" >-0.04</td>\n",
              "            </tr>\n",
              "            <tr>\n",
              "                        <th id=\"T_d46acaae_7ca1_11eb_893b_0242ac1c0002level0_row9\" class=\"row_heading level0 row9\" >Property_Area</th>\n",
              "                        <td id=\"T_d46acaae_7ca1_11eb_893b_0242ac1c0002row9_col0\" class=\"data row9 col0\" >0.03</td>\n",
              "                        <td id=\"T_d46acaae_7ca1_11eb_893b_0242ac1c0002row9_col1\" class=\"data row9 col1\" >-0.00</td>\n",
              "                        <td id=\"T_d46acaae_7ca1_11eb_893b_0242ac1c0002row9_col2\" class=\"data row9 col2\" >-0.07</td>\n",
              "                        <td id=\"T_d46acaae_7ca1_11eb_893b_0242ac1c0002row9_col3\" class=\"data row9 col3\" >0.03</td>\n",
              "                        <td id=\"T_d46acaae_7ca1_11eb_893b_0242ac1c0002row9_col4\" class=\"data row9 col4\" >-0.01</td>\n",
              "                        <td id=\"T_d46acaae_7ca1_11eb_893b_0242ac1c0002row9_col5\" class=\"data row9 col5\" >0.01</td>\n",
              "                        <td id=\"T_d46acaae_7ca1_11eb_893b_0242ac1c0002row9_col6\" class=\"data row9 col6\" >-0.05</td>\n",
              "                        <td id=\"T_d46acaae_7ca1_11eb_893b_0242ac1c0002row9_col7\" class=\"data row9 col7\" >-0.08</td>\n",
              "                        <td id=\"T_d46acaae_7ca1_11eb_893b_0242ac1c0002row9_col8\" class=\"data row9 col8\" >0.00</td>\n",
              "                        <td id=\"T_d46acaae_7ca1_11eb_893b_0242ac1c0002row9_col9\" class=\"data row9 col9\" >1.00</td>\n",
              "                        <td id=\"T_d46acaae_7ca1_11eb_893b_0242ac1c0002row9_col10\" class=\"data row9 col10\" >0.03</td>\n",
              "                        <td id=\"T_d46acaae_7ca1_11eb_893b_0242ac1c0002row9_col11\" class=\"data row9 col11\" >-0.00</td>\n",
              "            </tr>\n",
              "            <tr>\n",
              "                        <th id=\"T_d46acaae_7ca1_11eb_893b_0242ac1c0002level0_row10\" class=\"row_heading level0 row10\" >Loan_Status</th>\n",
              "                        <td id=\"T_d46acaae_7ca1_11eb_893b_0242ac1c0002row10_col0\" class=\"data row10 col0\" >-0.02</td>\n",
              "                        <td id=\"T_d46acaae_7ca1_11eb_893b_0242ac1c0002row10_col1\" class=\"data row10 col1\" >-0.09</td>\n",
              "                        <td id=\"T_d46acaae_7ca1_11eb_893b_0242ac1c0002row10_col2\" class=\"data row10 col2\" >-0.09</td>\n",
              "                        <td id=\"T_d46acaae_7ca1_11eb_893b_0242ac1c0002row10_col3\" class=\"data row10 col3\" >0.00</td>\n",
              "                        <td id=\"T_d46acaae_7ca1_11eb_893b_0242ac1c0002row10_col4\" class=\"data row10 col4\" >-0.00</td>\n",
              "                        <td id=\"T_d46acaae_7ca1_11eb_893b_0242ac1c0002row10_col5\" class=\"data row10 col5\" >-0.06</td>\n",
              "                        <td id=\"T_d46acaae_7ca1_11eb_893b_0242ac1c0002row10_col6\" class=\"data row10 col6\" >-0.03</td>\n",
              "                        <td id=\"T_d46acaae_7ca1_11eb_893b_0242ac1c0002row10_col7\" class=\"data row10 col7\" >-0.02</td>\n",
              "                        <td id=\"T_d46acaae_7ca1_11eb_893b_0242ac1c0002row10_col8\" class=\"data row10 col8\" >0.54</td>\n",
              "                        <td id=\"T_d46acaae_7ca1_11eb_893b_0242ac1c0002row10_col9\" class=\"data row10 col9\" >0.03</td>\n",
              "                        <td id=\"T_d46acaae_7ca1_11eb_893b_0242ac1c0002row10_col10\" class=\"data row10 col10\" >1.00</td>\n",
              "                        <td id=\"T_d46acaae_7ca1_11eb_893b_0242ac1c0002row10_col11\" class=\"data row10 col11\" >0.01</td>\n",
              "            </tr>\n",
              "            <tr>\n",
              "                        <th id=\"T_d46acaae_7ca1_11eb_893b_0242ac1c0002level0_row11\" class=\"row_heading level0 row11\" >Dependents</th>\n",
              "                        <td id=\"T_d46acaae_7ca1_11eb_893b_0242ac1c0002row11_col0\" class=\"data row11 col0\" >-0.17</td>\n",
              "                        <td id=\"T_d46acaae_7ca1_11eb_893b_0242ac1c0002row11_col1\" class=\"data row11 col1\" >-0.33</td>\n",
              "                        <td id=\"T_d46acaae_7ca1_11eb_893b_0242ac1c0002row11_col2\" class=\"data row11 col2\" >0.06</td>\n",
              "                        <td id=\"T_d46acaae_7ca1_11eb_893b_0242ac1c0002row11_col3\" class=\"data row11 col3\" >-0.06</td>\n",
              "                        <td id=\"T_d46acaae_7ca1_11eb_893b_0242ac1c0002row11_col4\" class=\"data row11 col4\" >0.12</td>\n",
              "                        <td id=\"T_d46acaae_7ca1_11eb_893b_0242ac1c0002row11_col5\" class=\"data row11 col5\" >0.03</td>\n",
              "                        <td id=\"T_d46acaae_7ca1_11eb_893b_0242ac1c0002row11_col6\" class=\"data row11 col6\" >0.16</td>\n",
              "                        <td id=\"T_d46acaae_7ca1_11eb_893b_0242ac1c0002row11_col7\" class=\"data row11 col7\" >-0.10</td>\n",
              "                        <td id=\"T_d46acaae_7ca1_11eb_893b_0242ac1c0002row11_col8\" class=\"data row11 col8\" >-0.04</td>\n",
              "                        <td id=\"T_d46acaae_7ca1_11eb_893b_0242ac1c0002row11_col9\" class=\"data row11 col9\" >-0.00</td>\n",
              "                        <td id=\"T_d46acaae_7ca1_11eb_893b_0242ac1c0002row11_col10\" class=\"data row11 col10\" >0.01</td>\n",
              "                        <td id=\"T_d46acaae_7ca1_11eb_893b_0242ac1c0002row11_col11\" class=\"data row11 col11\" >1.00</td>\n",
              "            </tr>\n",
              "    </tbody></table>"
            ],
            "text/plain": [
              "<pandas.io.formats.style.Styler at 0x7f04d67a7d10>"
            ]
          },
          "metadata": {
            "tags": []
          },
          "execution_count": 21
        }
      ]
    },
    {
      "cell_type": "markdown",
      "metadata": {
        "id": "vt69RNjXdyBt"
      },
      "source": [
        "We can clearly see that Credit_History has the highest correlation with Loan_Status (a positive correlation of 0.54). Therefore our target value is highly dependant on this column."
      ]
    },
    {
      "cell_type": "markdown",
      "metadata": {
        "id": "naciskZDd1dE"
      },
      "source": [
        "**Machine learning models**"
      ]
    },
    {
      "cell_type": "markdown",
      "metadata": {
        "id": "6-w3XVrqd4D8"
      },
      "source": [
        "*   XGBoost\r\n",
        "*   Logistic Regression\r\n",
        "*   Decision Tree\r\n",
        "*   Random Forest\r\n",
        "\r\n",
        "\r\n"
      ]
    },
    {
      "cell_type": "markdown",
      "metadata": {
        "id": "u0kg9BKWeNUL"
      },
      "source": [
        "**The Process of Modeling the Data:**"
      ]
    },
    {
      "cell_type": "markdown",
      "metadata": {
        "id": "VLnTZbFeeP4k"
      },
      "source": [
        "1.   Importing the model\r\n",
        "2.   Fitting the model\r\n",
        "3.   Predicting Loan Status\r\n",
        "4.   Classification report by Loan Status\r\n",
        "5.   Overall accuracy"
      ]
    },
    {
      "cell_type": "code",
      "metadata": {
        "id": "ruBez3_ydqbC"
      },
      "source": [
        "y = df_train['Loan_Status']\r\n",
        "X = df_train.drop('Loan_Status', axis = 1)\r\n",
        "X_train, X_test, y_train, y_test = train_test_split(X, y, test_size = 0.2, random_state = 0)"
      ],
      "execution_count": 22,
      "outputs": []
    },
    {
      "cell_type": "code",
      "metadata": {
        "colab": {
          "base_uri": "https://localhost:8080/",
          "height": 224
        },
        "id": "wdvDwmXbeis5",
        "outputId": "bfbef7f0-f271-4171-e08b-bc6c97f1fa4f"
      },
      "source": [
        "\r\n",
        "X_train.head()"
      ],
      "execution_count": 23,
      "outputs": [
        {
          "output_type": "execute_result",
          "data": {
            "text/html": [
              "<div>\n",
              "<style scoped>\n",
              "    .dataframe tbody tr th:only-of-type {\n",
              "        vertical-align: middle;\n",
              "    }\n",
              "\n",
              "    .dataframe tbody tr th {\n",
              "        vertical-align: top;\n",
              "    }\n",
              "\n",
              "    .dataframe thead th {\n",
              "        text-align: right;\n",
              "    }\n",
              "</style>\n",
              "<table border=\"1\" class=\"dataframe\">\n",
              "  <thead>\n",
              "    <tr style=\"text-align: right;\">\n",
              "      <th></th>\n",
              "      <th>Gender</th>\n",
              "      <th>Married</th>\n",
              "      <th>Education</th>\n",
              "      <th>Self_Employed</th>\n",
              "      <th>ApplicantIncome</th>\n",
              "      <th>CoapplicantIncome</th>\n",
              "      <th>LoanAmount</th>\n",
              "      <th>Loan_Amount_Term</th>\n",
              "      <th>Credit_History</th>\n",
              "      <th>Property_Area</th>\n",
              "      <th>Dependents</th>\n",
              "    </tr>\n",
              "  </thead>\n",
              "  <tbody>\n",
              "    <tr>\n",
              "      <th>90</th>\n",
              "      <td>1</td>\n",
              "      <td>1</td>\n",
              "      <td>1</td>\n",
              "      <td>2</td>\n",
              "      <td>2958</td>\n",
              "      <td>2900.0</td>\n",
              "      <td>131.0</td>\n",
              "      <td>360.0</td>\n",
              "      <td>1.0</td>\n",
              "      <td>2</td>\n",
              "      <td>0</td>\n",
              "    </tr>\n",
              "    <tr>\n",
              "      <th>533</th>\n",
              "      <td>1</td>\n",
              "      <td>2</td>\n",
              "      <td>1</td>\n",
              "      <td>2</td>\n",
              "      <td>11250</td>\n",
              "      <td>0.0</td>\n",
              "      <td>196.0</td>\n",
              "      <td>360.0</td>\n",
              "      <td>1.0</td>\n",
              "      <td>2</td>\n",
              "      <td>1</td>\n",
              "    </tr>\n",
              "    <tr>\n",
              "      <th>452</th>\n",
              "      <td>1</td>\n",
              "      <td>1</td>\n",
              "      <td>1</td>\n",
              "      <td>2</td>\n",
              "      <td>3948</td>\n",
              "      <td>1733.0</td>\n",
              "      <td>149.0</td>\n",
              "      <td>360.0</td>\n",
              "      <td>0.0</td>\n",
              "      <td>1</td>\n",
              "      <td>0</td>\n",
              "    </tr>\n",
              "    <tr>\n",
              "      <th>355</th>\n",
              "      <td>2</td>\n",
              "      <td>2</td>\n",
              "      <td>1</td>\n",
              "      <td>2</td>\n",
              "      <td>3813</td>\n",
              "      <td>0.0</td>\n",
              "      <td>116.0</td>\n",
              "      <td>180.0</td>\n",
              "      <td>1.0</td>\n",
              "      <td>3</td>\n",
              "      <td>0</td>\n",
              "    </tr>\n",
              "    <tr>\n",
              "      <th>266</th>\n",
              "      <td>1</td>\n",
              "      <td>1</td>\n",
              "      <td>1</td>\n",
              "      <td>2</td>\n",
              "      <td>4708</td>\n",
              "      <td>1387.0</td>\n",
              "      <td>150.0</td>\n",
              "      <td>360.0</td>\n",
              "      <td>1.0</td>\n",
              "      <td>2</td>\n",
              "      <td>2</td>\n",
              "    </tr>\n",
              "  </tbody>\n",
              "</table>\n",
              "</div>"
            ],
            "text/plain": [
              "     Gender  Married  Education  ...  Credit_History  Property_Area  Dependents\n",
              "90        1        1          1  ...             1.0              2           0\n",
              "533       1        2          1  ...             1.0              2           1\n",
              "452       1        1          1  ...             0.0              1           0\n",
              "355       2        2          1  ...             1.0              3           0\n",
              "266       1        1          1  ...             1.0              2           2\n",
              "\n",
              "[5 rows x 11 columns]"
            ]
          },
          "metadata": {
            "tags": []
          },
          "execution_count": 23
        }
      ]
    },
    {
      "cell_type": "code",
      "metadata": {
        "colab": {
          "base_uri": "https://localhost:8080/"
        },
        "id": "5deH_8NSeqqC",
        "outputId": "6deb3076-5483-44fa-ab5b-0f5e3accfd0e"
      },
      "source": [
        "X_train.dtypes"
      ],
      "execution_count": 24,
      "outputs": [
        {
          "output_type": "execute_result",
          "data": {
            "text/plain": [
              "Gender                 int64\n",
              "Married                int64\n",
              "Education              int64\n",
              "Self_Employed          int64\n",
              "ApplicantIncome        int64\n",
              "CoapplicantIncome    float64\n",
              "LoanAmount           float64\n",
              "Loan_Amount_Term     float64\n",
              "Credit_History       float64\n",
              "Property_Area          int64\n",
              "Dependents             int64\n",
              "dtype: object"
            ]
          },
          "metadata": {
            "tags": []
          },
          "execution_count": 24
        }
      ]
    },
    {
      "cell_type": "code",
      "metadata": {
        "colab": {
          "base_uri": "https://localhost:8080/"
        },
        "id": "oGxV5yXqes2i",
        "outputId": "f8e8ffab-21c9-4f49-e261-ad07af7834b0"
      },
      "source": [
        "y_train"
      ],
      "execution_count": 25,
      "outputs": [
        {
          "output_type": "execute_result",
          "data": {
            "text/plain": [
              "90     1\n",
              "533    0\n",
              "452    0\n",
              "355    1\n",
              "266    1\n",
              "      ..\n",
              "277    1\n",
              "9      0\n",
              "359    1\n",
              "192    0\n",
              "559    1\n",
              "Name: Loan_Status, Length: 491, dtype: int64"
            ]
          },
          "metadata": {
            "tags": []
          },
          "execution_count": 25
        }
      ]
    },
    {
      "cell_type": "markdown",
      "metadata": {
        "id": "NoBTM1Oie6du"
      },
      "source": [
        "**Decision Tree**"
      ]
    },
    {
      "cell_type": "code",
      "metadata": {
        "colab": {
          "base_uri": "https://localhost:8080/"
        },
        "id": "nBvqDXeeeuUZ",
        "outputId": "280d47d7-44bf-4156-9de4-6cf5f5fc99b2"
      },
      "source": [
        "DT = DecisionTreeClassifier()\r\n",
        "DT.fit(X_train, y_train)\r\n",
        "\r\n",
        "y_predict = DT.predict(X_test)\r\n",
        "\r\n",
        "#  prediction Summary by species\r\n",
        "print(classification_report(y_test, y_predict))\r\n",
        "\r\n",
        "# Accuracy score\r\n",
        "DT_SC = accuracy_score(y_predict,y_test)\r\n",
        "print(f\"{round(DT_SC*100,2)}% Accurate\")"
      ],
      "execution_count": 26,
      "outputs": [
        {
          "output_type": "stream",
          "text": [
            "              precision    recall  f1-score   support\n",
            "\n",
            "           0       0.43      0.58      0.49        33\n",
            "           1       0.82      0.72      0.77        90\n",
            "\n",
            "    accuracy                           0.68       123\n",
            "   macro avg       0.63      0.65      0.63       123\n",
            "weighted avg       0.72      0.68      0.70       123\n",
            "\n",
            "68.29% Accurate\n"
          ],
          "name": "stdout"
        }
      ]
    },
    {
      "cell_type": "markdown",
      "metadata": {
        "id": "UF6nWtpOe_fM"
      },
      "source": [
        "**Random Forest**"
      ]
    },
    {
      "cell_type": "code",
      "metadata": {
        "colab": {
          "base_uri": "https://localhost:8080/"
        },
        "id": "hYk9gRTteyti",
        "outputId": "e62b5c35-c453-44b2-b7a1-f09aa33f8100"
      },
      "source": [
        "RF = RandomForestClassifier()\r\n",
        "RF.fit(X_train, y_train)\r\n",
        "\r\n",
        "y_predict = RF.predict(X_test)\r\n",
        "\r\n",
        "#  prediction Summary by species\r\n",
        "print(classification_report(y_test, y_predict))\r\n",
        "\r\n",
        "# Accuracy score\r\n",
        "RF_SC = accuracy_score(y_predict,y_test)\r\n",
        "print(f\"{round(RF_SC*100,2)}% Accurate\")"
      ],
      "execution_count": 27,
      "outputs": [
        {
          "output_type": "stream",
          "text": [
            "              precision    recall  f1-score   support\n",
            "\n",
            "           0       0.64      0.42      0.51        33\n",
            "           1       0.81      0.91      0.86        90\n",
            "\n",
            "    accuracy                           0.78       123\n",
            "   macro avg       0.72      0.67      0.68       123\n",
            "weighted avg       0.76      0.78      0.76       123\n",
            "\n",
            "78.05% Accurate\n"
          ],
          "name": "stdout"
        }
      ]
    },
    {
      "cell_type": "markdown",
      "metadata": {
        "id": "qFQ_fGpYfETU"
      },
      "source": [
        "**XGBoost**"
      ]
    },
    {
      "cell_type": "code",
      "metadata": {
        "colab": {
          "base_uri": "https://localhost:8080/"
        },
        "id": "tS6eMgFYe016",
        "outputId": "706ad890-30ac-4d14-bb45-9b750eb0783e"
      },
      "source": [
        "XGB = XGBClassifier()\r\n",
        "XGB.fit(X_train, y_train)\r\n",
        "\r\n",
        "y_predict = XGB.predict(X_test)\r\n",
        "\r\n",
        "#  prediction Summary by species\r\n",
        "print(classification_report(y_test, y_predict))\r\n",
        "\r\n",
        "# Accuracy score\r\n",
        "XGB_SC = accuracy_score(y_predict,y_test)\r\n",
        "print(f\"{round(XGB_SC*100,2)}% Accurate\")"
      ],
      "execution_count": 28,
      "outputs": [
        {
          "output_type": "stream",
          "text": [
            "              precision    recall  f1-score   support\n",
            "\n",
            "           0       0.88      0.45      0.60        33\n",
            "           1       0.83      0.98      0.90        90\n",
            "\n",
            "    accuracy                           0.84       123\n",
            "   macro avg       0.86      0.72      0.75       123\n",
            "weighted avg       0.84      0.84      0.82       123\n",
            "\n",
            "83.74% Accurate\n"
          ],
          "name": "stdout"
        }
      ]
    },
    {
      "cell_type": "markdown",
      "metadata": {
        "id": "V_15DiJFfHb1"
      },
      "source": [
        "**Logistic Regression**"
      ]
    },
    {
      "cell_type": "code",
      "metadata": {
        "colab": {
          "base_uri": "https://localhost:8080/"
        },
        "id": "n2Rmf-xRe3Yq",
        "outputId": "6a4fc0b4-2e17-40ea-f0e7-80114dcbf54b"
      },
      "source": [
        "LR = LogisticRegression()\r\n",
        "LR.fit(X_train, y_train)\r\n",
        "\r\n",
        "y_predict = LR.predict(X_test)\r\n",
        "\r\n",
        "#  prediction Summary by species\r\n",
        "print(classification_report(y_test, y_predict))\r\n",
        "\r\n",
        "# Accuracy score\r\n",
        "LR_SC = accuracy_score(y_predict,y_test)\r\n",
        "lr = accuracy_score(y_predict,y_test)\r\n",
        "print(f\"{round(lr*100,2)}% Accurate\")"
      ],
      "execution_count": 29,
      "outputs": [
        {
          "output_type": "stream",
          "text": [
            "              precision    recall  f1-score   support\n",
            "\n",
            "           0       0.88      0.45      0.60        33\n",
            "           1       0.83      0.98      0.90        90\n",
            "\n",
            "    accuracy                           0.84       123\n",
            "   macro avg       0.86      0.72      0.75       123\n",
            "weighted avg       0.84      0.84      0.82       123\n",
            "\n",
            "83.74% Accurate\n"
          ],
          "name": "stdout"
        }
      ]
    },
    {
      "cell_type": "markdown",
      "metadata": {
        "id": "WaEoZo4CfPRV"
      },
      "source": [
        "**Conclusion**"
      ]
    },
    {
      "cell_type": "markdown",
      "metadata": {
        "id": "qLR9650efTNd"
      },
      "source": [
        "1. Credit_History is a very important variable because of its high correlation with Loan_Status therefor showind high Dependancy for the latter.\r\n",
        "\r\n",
        "2. The Logistic Regression algorithm is the most accurate: approximately 83%."
      ]
    },
    {
      "cell_type": "code",
      "metadata": {
        "colab": {
          "base_uri": "https://localhost:8080/",
          "height": 173
        },
        "id": "CWeCeH_AfKs3",
        "outputId": "4cf436ba-3ee3-4663-c49d-cda83dc97363"
      },
      "source": [
        "score = [DT_SC,RF_SC,XGB_SC,LR_SC]\r\n",
        "\r\n",
        "Models = pd.DataFrame({\r\n",
        "    'n_neighbors': [\"Decision Tree\",\"Random Forest\",\"XGBoost\", \"Logistic Regression\"],\r\n",
        "    'Score': score})\r\n",
        "\r\n",
        "Models.sort_values(by='Score', ascending=False)"
      ],
      "execution_count": 30,
      "outputs": [
        {
          "output_type": "execute_result",
          "data": {
            "text/html": [
              "<div>\n",
              "<style scoped>\n",
              "    .dataframe tbody tr th:only-of-type {\n",
              "        vertical-align: middle;\n",
              "    }\n",
              "\n",
              "    .dataframe tbody tr th {\n",
              "        vertical-align: top;\n",
              "    }\n",
              "\n",
              "    .dataframe thead th {\n",
              "        text-align: right;\n",
              "    }\n",
              "</style>\n",
              "<table border=\"1\" class=\"dataframe\">\n",
              "  <thead>\n",
              "    <tr style=\"text-align: right;\">\n",
              "      <th></th>\n",
              "      <th>n_neighbors</th>\n",
              "      <th>Score</th>\n",
              "    </tr>\n",
              "  </thead>\n",
              "  <tbody>\n",
              "    <tr>\n",
              "      <th>2</th>\n",
              "      <td>XGBoost</td>\n",
              "      <td>0.837398</td>\n",
              "    </tr>\n",
              "    <tr>\n",
              "      <th>3</th>\n",
              "      <td>Logistic Regression</td>\n",
              "      <td>0.837398</td>\n",
              "    </tr>\n",
              "    <tr>\n",
              "      <th>1</th>\n",
              "      <td>Random Forest</td>\n",
              "      <td>0.780488</td>\n",
              "    </tr>\n",
              "    <tr>\n",
              "      <th>0</th>\n",
              "      <td>Decision Tree</td>\n",
              "      <td>0.682927</td>\n",
              "    </tr>\n",
              "  </tbody>\n",
              "</table>\n",
              "</div>"
            ],
            "text/plain": [
              "           n_neighbors     Score\n",
              "2              XGBoost  0.837398\n",
              "3  Logistic Regression  0.837398\n",
              "1        Random Forest  0.780488\n",
              "0        Decision Tree  0.682927"
            ]
          },
          "metadata": {
            "tags": []
          },
          "execution_count": 30
        }
      ]
    },
    {
      "cell_type": "code",
      "metadata": {
        "id": "nDWMzwKtf_VY"
      },
      "source": [
        "# saving the logistic regression model\r\n",
        "import pickle\r\n",
        "\r\n",
        "logi_model_path = \"log_reg.pkl\"\r\n",
        "\r\n",
        "with open(logi_model_path, 'wb') as file:\r\n",
        "    pickle.dump(LR, file)"
      ],
      "execution_count": 31,
      "outputs": []
    },
    {
      "cell_type": "code",
      "metadata": {
        "id": "wdyX2JtngSmj"
      },
      "source": [
        ""
      ],
      "execution_count": null,
      "outputs": []
    }
  ]
}